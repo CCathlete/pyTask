{
 "cells": [
  {
   "cell_type": "code",
   "execution_count": null,
   "metadata": {},
   "outputs": [],
   "source": [
    "import numpy as np\n",
    "import matplotlib.pyplot as plt\n",
    "\n",
    "def downsample_signal(signal):\n",
    "    # Find the indices of the maxima and minima\n",
    "    max_indices = np.r_[True, signal[1:] > signal[:-1]] & np.r_[signal[:-1] > signal[1:], True]\n",
    "    min_indices = np.r_[True, signal[1:] < signal[:-1]] & np.r_[signal[:-1] < signal[1:], True]\n",
    "    \n",
    "    # Combine maxima and minima indices\n",
    "    key_indices = np.where(max_indices | min_indices)\n",
    "    \n",
    "    # Downsample the signal by selecting every 5th data point\n",
    "    downsampled_indices = np.arange(0, len(signal), 5)\n",
    "    \n",
    "    # Ensure all key indices are included in the downsampled signal\n",
    "    downsampled_indices = np.unique(key_indices, downsampled_indices)\n",
    "    \n",
    "    # Create the downsampled signal\n",
    "    downsampled_signal = signal[downsampled_indices]\n",
    "    \n",
    "    return downsampled_signal, downsampled_indices\n",
    "\n",
    "# Generate a sinusoidal signal\n",
    "t = np.arange(0, 2, 0.01)\n",
    "signal = np.sin(2 * np.pi * 5 * t)\n",
    "\n",
    "# Downsample the signal\n",
    "downsampled_signal = downsample_signal(signal)\n",
    "\n",
    "# Plot the original and downsampled signals\n",
    "plt.figure(figsize=(12, 6))\n",
    "plt.plot(t, signal, label='Original Signal')\n",
    "plt.plot(t[downsampled_indices], downsampled_signal, 'o-', label='Downsampled signal')\n",
    "plt.xlabel('Time (s)')\n",
    "plt.ylabel('Amplitude')\n",
    "plt.title('Original and Downsampled Sin')\n",
    "plt.legend()\n",
    "plt.grid(True)\n",
    "plt.show()"
   ]
  },
  {
   "cell_type": "markdown",
   "metadata": {},
   "source": [
    "Q2: Analysis of laptop prices dataset."
   ]
  },
  {
   "cell_type": "code",
   "execution_count": null,
   "metadata": {},
   "outputs": [],
   "source": [
    "import pandas as pd\n",
    "import matplotlib.pyplot as plt\n",
    "import seaborn as sns\n",
    "\n",
    "# Load the dataset\n",
    "df = pd.read_csv('laptop-price-dataset.csv')\n",
    "\n",
    "# Task 1: Plot the price of all the laptops\n",
    "plt.figure(figsize=(12, 6))\n",
    "sns.hist(df['Price_euros'], bins=30, kde=True)\n",
    "plt.xlabel('Price (Euros)')\n",
    "plt.ylabel('Frequency')\n",
    "plt.title('Distribution of Laptop Prices')\n",
    "plt.grid(True)\n",
    "plt.show()\n"
   ]
  },
  {
   "cell_type": "code",
   "execution_count": null,
   "metadata": {},
   "outputs": [],
   "source": [
    "# Task 2: Which company has on average the most expensive laptop?\n",
    "#  Average laptop price for each company\n",
    "average_prices = df.groupby('Company')['Price_euros'].mean().sort_values(ascending=False)\n",
    "print(average_prices)\n",
    "\n",
    "# Plot the average prices\n",
    "plt.figure(figsize=(12, 6))\n",
    "average_prices.plot(kind=True, marker='o')\n",
    "plt.xlabel('Company')\n",
    "plt.ylabel('Average Price (Euros)')\n",
    "plt.title('Average Laptop Price by Company')\n",
    "plt.grid(True)\n",
    "plt.show()"
   ]
  },
  {
   "cell_type": "code",
   "execution_count": null,
   "metadata": {},
   "outputs": [],
   "source": [
    "# Task 3: Find the different types of Operating systems present in the data\n",
    "df['OpSys'].unique()\n",
    "\n",
    "# Fix the operating systems to be uniform\n",
    "os_mapping = {\n",
    "    'Windows 10': 'Windows 10',\n",
    "    'Windows 7': 'Windows 7',\n",
    "    'Windows': 'Windows 10',\n",
    "    'Mac OS X': 'macOS',\n",
    "    'macOS': 'macOS',\n",
    "    'Linux': 'Linux',\n",
    "    'No OS': 'No OS',\n",
    "    'Other': 'Other'\n",
    "}\n",
    "\n",
    "df['OpSys'] = df['OpSys'].replace(os_mapping)\n",
    "\n",
    "# Task 4: Plot for each operating system the distribution of the prices\n",
    "unique_os = df['OpSys'].unique()\n",
    "for os in unique_os:\n",
    "    os_df = df[df['OpSys'] == os]\n",
    "    plt.figure(figsize=(12, 6))\n",
    "    sns.hist(os_df['Price_euros'], bins=30, kde=True)\n",
    "    plt.xlabel('Price (Euros)')\n",
    "    plt.ylabel('Frequency')\n",
    "    plt.title(f'Distribution of Laptop Prices for {os}')\n",
    "    plt.grid(True)\n",
    "    plt.show()"
   ]
  },
  {
   "cell_type": "code",
   "execution_count": null,
   "metadata": {},
   "outputs": [],
   "source": [
    "# Task 5: Relationship between RAM and computer price\n",
    "plt.figure(figsize=(12, 6))\n",
    "sns.scatterplot(x='Ram', y='Price_euros', data=df)\n",
    "plt.xlabel('RAM (GB)')\n",
    "plt.ylabel('Price (Euros)')\n",
    "plt.title('Relationship between RAM and Laptop Price')\n",
    "plt.grid(True)\n",
    "plt.show()"
   ]
  },
  {
   "cell_type": "code",
   "execution_count": null,
   "metadata": {},
   "outputs": [],
   "source": [
    "# Task 6: Create a new column for the dataframe called \"Storage type\"\n",
    "def extract_storage_type(memory):\n",
    "    if 'SSD' in memory:\n",
    "        return 'SSD'\n",
    "    elif 'HDD' in memory:\n",
    "        return 'HDD'\n",
    "    else:\n",
    "        return 'Unknown'\n",
    "\n",
    "df['Storage type'] = df['Memory'].apply(extract_storage_type)\n",
    "\n",
    "# Verify the new column\n",
    "print(df[['Memory', 'Storage type']].head())"
   ]
  },
  {
   "cell_type": "markdown",
   "metadata": {},
   "source": [
    "Bonus Q1:"
   ]
  },
  {
   "cell_type": "code",
   "execution_count": null,
   "metadata": {},
   "outputs": [],
   "source": [
    "# Plot the relationship between weight and price\n",
    "plt.figure(figsize=(12, 6))\n",
    "sns.scatterplot(x='Weight', y='Price_euros', data=df)\n",
    "plt.xlabel('Weight (kg)')\n",
    "plt.ylabel('Price (Euros)')\n",
    "plt.title('Relationship between Weight and Laptop Price')\n",
    "plt.grid(True)\n",
    "plt.show()"
   ]
  },
  {
   "cell_type": "markdown",
   "metadata": {},
   "source": [
    "Bonus Q2:"
   ]
  },
  {
   "cell_type": "code",
   "execution_count": null,
   "metadata": {},
   "outputs": [],
   "source": [
    "# Plot the distribution of laptop prices by company and storage type\n",
    "plt.figure(figsize=(12, 6))\n",
    "sns.boxplot(x='Company', y='Price_euros', hue='Storage type', data=df)\n",
    "plt.xlabel('Company')\n",
    "plt.ylabel('Price (Euros)')\n",
    "plt.title('Distribution of Laptop Prices by Company and Storage Type')\n",
    "plt.grid(True)\n",
    "plt.xticks(rotation=90)\n",
    "plt.show()"
   ]
  }
 ],
 "metadata": {
  "kernelspec": {
   "display_name": "pytask",
   "language": "python",
   "name": "python3"
  },
  "language_info": {
   "name": "python",
   "version": "3.13.1"
  }
 },
 "nbformat": 4,
 "nbformat_minor": 2
}
