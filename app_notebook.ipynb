{
 "cells": [
  {
   "cell_type": "markdown",
   "metadata": {},
   "source": [
    "# Part 1"
   ]
  },
  {
   "cell_type": "code",
   "execution_count": 49,
   "metadata": {},
   "outputs": [],
   "source": [
    "class GeneralNeuron:\n",
    "    def __init__(self, firing_rate):\n",
    "        self.firing_rate = firing_rate\n",
    "\n",
    "    def activate(self, stimulus_strength):\n",
    "        pass  # פונקציה לחישוב קצב הירי על פי עוצמת הגירוי\n",
    "\n",
    "\n",
    "class SensoryNeuron(GeneralNeuron):\n",
    "    def __init__(self, firing_rate, receptor_type):\n",
    "        super().__init__(firing_rate)\n",
    "        self.receptor_type = receptor_type\n",
    "\n",
    "    def sense_stimulus(self, stimulus):\n",
    "        pass  # עיבוד הגירוי הספציפי\n",
    "\n",
    "\n",
    "class Photoreceptor(SensoryNeuron):\n",
    "    def __init__(self, firing_rate):\n",
    "        super().__init__(firing_rate, receptor_type=\"light\")\n",
    "\n",
    "    def light_detection(self, light_intensity):\n",
    "        pass  # התנהגות ייחודית לקליטת אור\n",
    "\n",
    "    def light_response(self, light_intensity):\n",
    "        pass\n",
    "\n",
    "class Mechanoreceptor(SensoryNeuron):\n",
    "    def __init__(self, firing_rate):\n",
    "        super().__init__(firing_rate, receptor_type=\"pressure\")\n",
    "\n",
    "    def pressure_detection(self, pressure_level):\n",
    "        pass  # התנהגות ייחודית לקליטת לחץ\n",
    "\n",
    "\n",
    "class MotorNeuron(GeneralNeuron):\n",
    "    def __init__(self, firing_rate, target_muscle):\n",
    "        super().__init__(firing_rate)\n",
    "        self.target_muscle = target_muscle\n",
    "\n",
    "    def control_muscle(self):\n",
    "        pass  # שליטה בשריר על פי רמת ההפעלה\n",
    "\n",
    "\n",
    "class AlphaMotorNeuron(MotorNeuron):\n",
    "    def __init__(self, firing_rate):\n",
    "        super().__init__(firing_rate, target_muscle=\"skeletal muscle\")\n",
    "\n",
    "    def skeletal_muscle_control(self):\n",
    "        pass  # שליטה ייחודית בשרירי שלד\n",
    "\n",
    "\n",
    "class GammaMotorNeuron(MotorNeuron):\n",
    "    def __init__(self, firing_rate):\n",
    "        super().__init__(firing_rate, target_muscle=\"muscle spindle\")\n",
    "\n",
    "    def muscle_spindle_control(self):\n",
    "        pass  # שליטה ייחודית בכישור השריר\n"
   ]
  },
  {
   "cell_type": "code",
   "execution_count": null,
   "metadata": {},
   "outputs": [],
   "source": [
    "#שאלות\n",
    "# מוטור האם הפונקציה צריכה לקבל פרמטר  activation level\n",
    "# בילדים של המוטור האם צריך לדרוס את הפונקציה של השליטה והאם יש שם עוד פונקציה שצריך להגדיר"
   ]
  },
  {
   "cell_type": "markdown",
   "metadata": {},
   "source": [
    "# Part 2"
   ]
  },
  {
   "cell_type": "markdown",
   "metadata": {},
   "source": [
    "## Q1"
   ]
  },
  {
   "cell_type": "code",
   "execution_count": 27,
   "metadata": {},
   "outputs": [
    {
     "name": "stdout",
     "output_type": "stream",
     "text": [
      "length of downsampled_signal is 20 should be around 20% of original length  100\n"
     ]
    }
   ],
   "source": [
    "import numpy as np\n",
    "\n",
    "def find_max_min(arr):\n",
    "    max_indexes = []\n",
    "    min_indexes = []\n",
    "    \n",
    "    # לולאה על כל איברי המערך (למעט הקצוות)\n",
    "    for i in range(1, len(arr) - 1):\n",
    "        if arr[i] > arr[i - 1] and arr[i] > arr[i + 1]:\n",
    "            max_indexes.append(i)  # מקסימום מקומי\n",
    "        elif arr[i] < arr[i - 1] and arr[i] < arr[i + 1]:\n",
    "            min_indexes.append(i)  # מינימום מקומי\n",
    "    \n",
    "    return max_indexes, min_indexes\n",
    "\n",
    "\n",
    "def downsample_signal(signal, downsample_factor=5):\n",
    "    # מציאת אינדקסים של מקסימום ומינימום\n",
    "    max_indexes, min_indexes = find_max_min(signal)\n",
    "    # יצירת רשימה של כל אינדקסי המקסימום והמינימום\n",
    "    min_max_indexes = np.sort(np.concatenate((max_indexes, min_indexes)))\n",
    "    \n",
    "    # דגימה מחדש: לקיחת כל נקודה חמישית בנוסף לנקודות הקיצון\n",
    "    downsampled_indices = np.arange(0, len(signal), downsample_factor)\n",
    "    combined_indices = np.unique(np.concatenate((downsampled_indices, min_max_indexes)))\n",
    "    \n",
    "    return signal[combined_indices]\n",
    "\n",
    "# יצירת אות סינוסואידלי לדוגמה\n",
    "time = np.arange(0, 1, 0.01)  # 1 שניה עם דגימה כל 0.01 שניות\n",
    "frequency = 5  # תדר 5Hz\n",
    "original_signal = np.sin(2 * np.pi * frequency * time)\n",
    "\n",
    "downsampled_signal = downsample_signal(original_signal)\n",
    "\n",
    "# Verify\n",
    "print('length of downsampled_signal is',len(downsampled_signal), 'should be around 20% of original length ',len(original_signal))\n",
    "\n",
    "max_indexes, min_indexes = find_max_min(original_signal)\n",
    "max_min_indexes = np.concatenate((max_indexes, min_indexes))\n",
    "\n",
    "for i in range(len(max_min_indexes)):\n",
    "    if(original_signal[max_min_indexes[i]] not in downsampled_signal):\n",
    "       print(\"error - missing minimum or maximum value\")"
   ]
  },
  {
   "cell_type": "markdown",
   "metadata": {},
   "source": [
    "## Q2"
   ]
  },
  {
   "cell_type": "markdown",
   "metadata": {},
   "source": [
    "### Point 1"
   ]
  },
  {
   "cell_type": "code",
   "execution_count": 40,
   "metadata": {},
   "outputs": [
    {
     "data": {
      "image/png": "[encoded data removed]",
      "text/plain": [
       "<Figure size 640x480 with 1 Axes>"
      ]
     },
     "metadata": {},
     "output_type": "display_data"
    }
   ],
   "source": [
    "import matplotlib.pyplot as plt\n",
    "import pandas as pd\n",
    "\n",
    "df = pd.read_csv(\"laptop_price - dataset.csv\")\n",
    "\n",
    "laptop_ids = np.arange(0, len(df))\n",
    "laptop_prices = df['Price (Euro)']\n",
    "\n",
    "# יצירת גרף\n",
    "plt.bar(laptop_ids, laptop_prices)\n",
    "plt.title('Computers prices')\n",
    "plt.xlabel('Index')\n",
    "plt.ylabel('Price (Euro)')\n",
    "plt.show()"
   ]
  },
  {
   "cell_type": "markdown",
   "metadata": {},
   "source": [
    "### Point 2"
   ]
  },
  {
   "cell_type": "code",
   "execution_count": 48,
   "metadata": {},
   "outputs": [
    {
     "name": "stdout",
     "output_type": "stream",
     "text": [
      "Company\n",
      "Acer          633.464455\n",
      "Apple        1564.198571\n",
      "Asus         1123.829737\n",
      "Chuwi         314.296667\n",
      "Dell         1199.225120\n",
      "Fujitsu       729.000000\n",
      "Google       1677.666667\n",
      "HP           1080.314664\n",
      "Huawei       1424.000000\n",
      "LG           2099.000000\n",
      "Lenovo       1093.862215\n",
      "MSI          1728.908148\n",
      "Mediacom      295.000000\n",
      "Microsoft    1612.308333\n",
      "Razer        3346.142857\n",
      "Samsung      1413.444444\n",
      "Toshiba      1267.812500\n",
      "Vero          217.425000\n",
      "Xiaomi       1133.462500\n",
      "Name: Price (Euro), dtype: float64\n",
      "The company with the highest average price is Razer with an average price of 3346.1428571428573 Euro\n"
     ]
    }
   ],
   "source": [
    "average_price_per_company = df.groupby('Company')['Price (Euro)'].mean()\n",
    "print(average_price_per_company)\n",
    "# מציאת החברה עם הממוצע הגבוה ביותר\n",
    "company_with_max_average = average_price_per_company.idxmax()\n",
    "max_average_price = average_price_per_company.max()\n",
    "print(f\"The company with the highest average price is {company_with_max_average} with an average price of {max_average_price} Euro\")"
   ]
  }
 ],
 "metadata": {
  "kernelspec": {
   "display_name": "venv",
   "language": "python",
   "name": "python3"
  },
  "language_info": {
   "codemirror_mode": {
    "name": "ipython",
    "version": 3
   },
   "file_extension": ".py",
   "mimetype": "text/x-python",
   "name": "python",
   "nbconvert_exporter": "python",
   "pygments_lexer": "ipython3",
   "version": "3.13.0"
  }
 },
 "nbformat": 4,
 "nbformat_minor": 2
}
